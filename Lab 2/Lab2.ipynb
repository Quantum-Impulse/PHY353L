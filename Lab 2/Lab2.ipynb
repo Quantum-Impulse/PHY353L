{
 "cells": [
  {
   "cell_type": "code",
   "execution_count": 4,
   "id": "16a056bd-af0b-4382-98aa-5daeb5d456ab",
   "metadata": {},
   "outputs": [
    {
     "name": "stdout",
     "output_type": "stream",
     "text": [
      "CSV file created at: ./02-06-2024_Na22_measurement_01_with_energy.csv\n"
     ]
    }
   ],
   "source": [
    "import csv\n",
    "\n",
    "\n",
    "import pandas as pd\n",
    "import matplotlib.pyplot as plt\n",
    "from scipy.optimize import curve_fit\n",
    "import numpy as np\n",
    "import csv\n",
    "from scipy.stats import norm\n",
    "\n",
    "def channel_to_energy(channel, slope, intercept):\n",
    "    # Convert channel number to energy using calibration constants\n",
    "    return slope * channel + intercept\n",
    "\n",
    "def convert_spe_to_csv(spe_file_path, slope, y_intercept):\n",
    "    # Initialize lists to hold the data\n",
    "    indices = []\n",
    "    counts = []\n",
    "    \n",
    "    # Read the .Spe file content\n",
    "    with open(spe_file_path, 'r') as file:\n",
    "        content = file.readlines()\n",
    "    \n",
    "    # Flags to identify when the data section starts and when actual data starts\n",
    "    data_section = False\n",
    "    data_started = False\n",
    "    \n",
    "    for line in content:\n",
    "        if line.startswith('$ROI:'):\n",
    "            break  # Stop reading if we reach the $ROI: section\n",
    "        if data_section and data_started:\n",
    "            counts.append(int(line.strip()))  # Append count after stripping whitespace\n",
    "            indices.append(len(counts))  # The index is simply the count of how many data points have been read\n",
    "        if line.startswith('$DATA:'):\n",
    "            data_section = True  # Set the flag to True, next lines will be data\n",
    "        elif data_section and not data_started:\n",
    "            data_started = True  # Skip the first line after $DATA:\n",
    "    \n",
    "    # Calculate the energy for each channel\n",
    "    energies = [channel_to_energy(channel, slope, y_intercept) for channel in indices]\n",
    "    \n",
    "    # Define the CSV file path based on the .Spe file path\n",
    "    csv_file_path = spe_file_path.replace('.Spe', '_with_energy.csv')\n",
    "    \n",
    "    # Writing the data along with the calculated energies to the CSV file\n",
    "    with open(csv_file_path, 'w', newline='') as csvfile:\n",
    "        writer = csv.writer(csvfile)\n",
    "        writer.writerow(['Channel', 'Count', 'Energy (keV)'])  # Writing the header\n",
    "        writer.writerows(zip(indices, counts, energies))  # Writing the actual data\n",
    "    \n",
    "    return csv_file_path\n",
    "\n",
    "# Replace with your .Spe file path\n",
    "your_spe_file_path = './02-06-2024_Na22_measurement_01.Spe'\n",
    "\n",
    "# Calibration constants obtained previously\n",
    "slope = 0.3014996053670087\n",
    "y_intercept = -1109.560378847672\n",
    "\n",
    "# Calling the function to convert .Spe to CSV\n",
    "csv_file = convert_spe_to_csv(your_spe_file_path, slope, y_intercept)\n",
    "print(f\"CSV file created at: {csv_file}\")\n"
   ]
  },
  {
   "cell_type": "code",
   "execution_count": 5,
   "id": "2eb9fd2d-3706-4e17-820c-f0e0efd142b1",
   "metadata": {},
   "outputs": [],
   "source": [
    "data = pd.read_csv(\"./02-06-2024_Na22_measurement_01_with_energy.csv\")\n"
   ]
  },
  {
   "cell_type": "code",
   "execution_count": 15,
   "id": "d0b52a91-d051-4452-9921-c8cfa94b0545",
   "metadata": {},
   "outputs": [
    {
     "name": "stdout",
     "output_type": "stream",
     "text": [
      "0\n",
      "1757\n"
     ]
    },
    {
     "data": {
      "image/png": "[encoded data removed]",
      "text/plain": [
       "<Figure size 640x480 with 1 Axes>"
      ]
     },
     "metadata": {},
     "output_type": "display_data"
    }
   ],
   "source": [
    "# plotting histograms \n",
    "MinCountRange = min(data['Count'].min(), data['Count'].min())\n",
    "MaxCountRange = max(data['Count'].max(), data['Count'].max())\n",
    "\n",
    "print(MinCountRange)\n",
    "print(MaxCountRange)\n",
    "\n",
    "\n",
    "plt.hist(data['Count'], label='Column 1', bins=np.arange( MinCountRange , MaxCountRange + 1, 1), align='right' ) \n",
    "  \n",
    "plt.legend(loc='upper right') \n",
    "plt.xlabel('Counts') \n",
    "plt.ylabel('Density') \n",
    "\n",
    "plt.title('Histogram Stack of Column 1 & 2') \n",
    "\n",
    "# #Fit\n",
    "# mu1, sigma1 = norm.fit(data['Count'])\n",
    "# mu2, sigma2 = norm.fit(data['Count'])\n",
    "# xmin, xmax = plt.xlim()\n",
    "# x = np.linspace(xmin,xmax,100)\n",
    "# p1 = norm.pdf(x,mu1,sigma1)\n",
    "# p2 = norm.pdf(x,mu2,sigma2)\n",
    "# plt.plot(x,p1,'k',linewidth=1)\n",
    "# plt.plot(x,p2,'k',linewidth=1)\n",
    "plt.show()\n"
   ]
  },
  {
   "cell_type": "code",
   "execution_count": null,
   "id": "d55f32b5-25e0-49fa-b5f3-e28ff7b41378",
   "metadata": {},
   "outputs": [],
   "source": []
  }
 ],
 "metadata": {
  "kernelspec": {
   "display_name": "Python 3 (ipykernel)",
   "language": "python",
   "name": "python3"
  },
  "language_info": {
   "codemirror_mode": {
    "name": "ipython",
    "version": 3
   },
   "file_extension": ".py",
   "mimetype": "text/x-python",
   "name": "python",
   "nbconvert_exporter": "python",
   "pygments_lexer": "ipython3",
   "version": "3.11.5"
  }
 },
 "nbformat": 4,
 "nbformat_minor": 5
}
